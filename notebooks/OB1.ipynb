{
 "cells": [
  {
   "cell_type": "code",
   "execution_count": null,
   "id": "7b4e0dd4",
   "metadata": {},
   "outputs": [],
   "source": [
    "#Initiating autoreload\n",
    "%load_ext autoreload\n",
    "%autoreload 2\n",
    "%matplotlib inline\n",
    "\n",
    "#Adding parent directory to working path\n",
    "import os\n",
    "import sys\n",
    "\n",
    "parent_dir = os.path.abspath(os.path.join(os.getcwd(), os.pardir))\n",
    "sys.path.append(parent_dir)\n",
    "\n",
    "\n",
    "#Importing packages\n",
    "import matplotlib.pyplot as plt\n",
    "import numpy as np"
   ]
  },
  {
   "cell_type": "markdown",
   "id": "3e87d049",
   "metadata": {},
   "source": [
    "The goal of this notebook is to analyze the UDG 033935-183422 in the NGC1407 cluster and determine the ratio of GC to host galaxy luminosity."
   ]
  },
  {
   "cell_type": "markdown",
   "id": "2c6ce871",
   "metadata": {},
   "source": [
    "### 1) Aperature Curves ###\n",
    "First we will plot the aperature curves for 8 radii for the two GCs and a yellow and blue reference star.\n",
    "\n",
    "To start, we need to pull the luminosity values of the GCs and reference stars.\n",
    "\n",
    "User defined variables:\n",
    "- 'radius' - Array of aperature radii\n",
    "- 'GC_L_gmag' - Array of aperature magnitudes in the g-band for the left GC\n",
    "- 'GC_R_gmag' - Array of aperature magnitudes in the g-band for the right GC\n",
    "- 'Ref_Y_gmag' - Array of aperature magnitudes in the g-band for the yellow reference star\n",
    "- 'Ref_B_gmag' - Array of aperature magnitudes in the g-band for the blue reference star "
   ]
  },
  {
   "cell_type": "code",
   "execution_count": null,
   "id": "209e49ff",
   "metadata": {},
   "outputs": [],
   "source": [
    "#declaring radius array\n",
    "radius = [0.5,0.75,1.0,1.5,2.0,3.5,5.0,7.0]\n",
    "\n",
    "#populating magnitude arrays\n",
    "GC_L_gmag = [24.72182456,24.07375294,23.74898737,23.42670245,23.09777895,22.16794128,21.83386721,21.37952626]\n",
    "GC_R_gmag = [24.26133824,23.65639301,23.33103984,23.05506737,22.86272154,22.26055208,21.86652394,21.4218874]\n",
    "Ref_Y_gmag = [21.70936533,21.14370001,20.87269743,20.65784942,20.59158772,20.54144478,20.53099694,20.5068121]\n",
    "Ref_B_gmag = [23.1138763,22.54030473,22.25329492,22.04250538,21.97267845,21.93713564,21.89841094,21.83459993]"
   ]
  },
  {
   "cell_type": "code",
   "execution_count": null,
   "id": "135bccf2",
   "metadata": {},
   "outputs": [],
   "source": [
    "#plotting aperature curves\n",
    "plt.plot(radius,GC_L_gmag, '-o',c='r', label='GC')\n",
    "plt.plot(radius,GC_R_gmag, '-o',c='r')\n",
    "plt.plot(radius,Ref_Y_gmag, '-o',c='y', label='Yellow Reference Star')\n",
    "plt.plot(radius,Ref_B_gmag, '-o',c='b', label='Blue Reference Star')\n",
    "\n",
    "#inverting axis and setting title and axis labels\n",
    "plt.gca().invert_yaxis()\n",
    "plt.title('Aperature Curves of GCs and Reference Stars')\n",
    "plt.xlabel('Radius [arcsec]')\n",
    "plt.ylabel('Aperature Magnitude g-band')\n",
    "plt.legend(loc='lower right')"
   ]
  },
  {
   "cell_type": "markdown",
   "id": "d7806a76",
   "metadata": {},
   "source": [
    "### 2) Color Magnitude ###\n",
    "To deterimine if the bright points of light in OB1 are GCs one test we can perform is comparing their g-i color magnitudes with those of the reference stars.\n",
    "\n",
    "From analysis in section 1, the cutoff in aperature magnitude where the GC luminosities begin to overlap is 1.5\". We will therefore be using the aperature magnitudes for each object at this radius to plot the g-i color magnitudes.\n",
    "\n",
    "User defined variables:\n",
    "- 'GC_L_imag' - Array of aperature magnitudes in the i-band for the left GC\n",
    "- 'GC_R_imag' - Array of aperature magnitudes in the i-band for the right GC\n",
    "- 'Ref_Y_imag' - Array of aperature magnitudes in the i-band for the yellow reference star\n",
    "- 'Ref_B_imag' - Array of aperature magnitudes in the i-band for the blue reference star "
   ]
  },
  {
   "cell_type": "code",
   "execution_count": null,
   "id": "a036979e",
   "metadata": {},
   "outputs": [],
   "source": [
    "#populating magnitude arrays\n",
    "GC_L_imag = [23.60287172,23.07685741,22.81971105,22.51724284,22.27752948,21.38788223,20.99736647,20.54811325]\n",
    "GC_R_imag = [23.24081395,22.75585319,22.50956637,22.33275184,22.08293099,21.3893548,21.03802828,20.62054505]\n",
    "Ref_Y_imag = [19.85920623,19.38800423,19.18274469,19.03516652,18.98525106,18.94226875,18.93135492,18.9284626]\n",
    "Ref_B_imag = [22.15791221,21.67318848,21.46651167,21.33056735,21.27251472,21.07985163,21.03709835,21.1048444]"
   ]
  },
  {
   "cell_type": "code",
   "execution_count": null,
   "id": "aa9974f8",
   "metadata": {},
   "outputs": [],
   "source": [
    "#calculating g-i values\n",
    "GC_L_gi = GC_L_gmag[3]-GC_L_imag[3]\n",
    "GC_R_gi = GC_R_gmag[3]-GC_R_imag[3]\n",
    "Ref_Y_gi = Ref_Y_gmag[3]-Ref_Y_imag[3]\n",
    "Ref_B_gi = Ref_B_gmag[3]-Ref_B_imag[3]"
   ]
  },
  {
   "cell_type": "code",
   "execution_count": null,
   "id": "f0c63e34",
   "metadata": {},
   "outputs": [],
   "source": [
    "#plotting g-i color magnitudes\n",
    "plt.scatter(GC_L_gmag[3],GC_L_gi, c='r', label='GC')\n",
    "plt.scatter(GC_R_gmag[3],GC_R_gi, c='r',)\n",
    "plt.scatter(Ref_Y_gmag[3],Ref_Y_gi, c='y', label='Yellow Reference Star')\n",
    "plt.scatter(Ref_B_gmag[3],Ref_B_gi, c='b', label='Blue Reference Star')\n",
    "\n",
    "#inverting axis and setting title and axis labels\n",
    "plt.gca().invert_xaxis()\n",
    "plt.gca().invert_yaxis()\n",
    "plt.title('g-i Color Magnitude vs g-band Aperature Magnitude')\n",
    "plt.xlabel('Aperature Magnitude g-band')\n",
    "plt.ylabel('g-i')\n",
    "plt.legend(loc='lower left')"
   ]
  },
  {
   "cell_type": "code",
   "execution_count": null,
   "id": "ffbe3a8a",
   "metadata": {},
   "outputs": [],
   "source": []
  }
 ],
 "metadata": {
  "kernelspec": {
   "display_name": "Python 3",
   "language": "python",
   "name": "python3"
  },
  "language_info": {
   "codemirror_mode": {
    "name": "ipython",
    "version": 3
   },
   "file_extension": ".py",
   "mimetype": "text/x-python",
   "name": "python",
   "nbconvert_exporter": "python",
   "pygments_lexer": "ipython3",
   "version": "3.12.1"
  }
 },
 "nbformat": 4,
 "nbformat_minor": 5
}
