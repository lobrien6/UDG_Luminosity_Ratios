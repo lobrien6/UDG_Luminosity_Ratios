{
 "cells": [
  {
   "cell_type": "code",
   "execution_count": null,
   "id": "7b4e0dd4",
   "metadata": {},
   "outputs": [],
   "source": [
    "#Initiating autoreload\n",
    "%load_ext autoreload\n",
    "%autoreload 2\n",
    "%matplotlib inline\n",
    "\n",
    "#Adding parent directory to working path\n",
    "import os\n",
    "import sys\n",
    "\n",
    "parent_dir = os.path.abspath(os.path.join(os.getcwd(), os.pardir))\n",
    "sys.path.append(parent_dir)\n",
    "\n",
    "\n",
    "#Importing packages\n",
    "import matplotlib.pyplot as plt\n",
    "import numpy as np"
   ]
  },
  {
   "cell_type": "markdown",
   "id": "3e87d049",
   "metadata": {},
   "source": [
    "The goal of this notebook is to analyze the UDG 033935-183422 in the NGC1407 cluster and determine the ratio of GC to host galaxy luminosity."
   ]
  },
  {
   "cell_type": "markdown",
   "id": "2c6ce871",
   "metadata": {},
   "source": [
    "### 1) Aperature Curves ###\n",
    "First we will plot the aperature curves for 8 radii for the two GCs and a yellow and blue reference star.\n",
    "\n",
    "To start, we need to pull the luminosity values of the GCs and reference stars.\n",
    "\n",
    "User defined variables:\n",
    "- 'radius' - Array of aperature radii\n",
    "- 'GC_L_mag' - Array of aperature magnitudes in the g-band for the left GC\n",
    "- 'GC_R_mag' - Array of aperature magnitudes in the g-band for the right GC\n",
    "- 'Ref_Y_mag' - Array of aperature magnitudes in the g-band for the yellow reference star\n",
    "- 'Ref_B_mag' - Array of aperature magnitudes in the g-band for the blue reference star "
   ]
  },
  {
   "cell_type": "code",
   "execution_count": null,
   "id": "209e49ff",
   "metadata": {},
   "outputs": [],
   "source": [
    "#declaring radius array\n",
    "radius = [0.5,0.75,1.0,1.5,2.0,3.5,5.0,7.0]\n",
    "\n",
    "#setting magnitude values\n",
    "GC_L_mag = [24.72182456,24.07375294,23.74898737,23.42670245,23.09777895,22.16794128,21.83386721,21.37952626]\n",
    "GC_R_mag = [24.26133824,23.65639301,23.33103984,23.05506737,22.86272154,22.26055208,21.86652394,21.4218874]\n",
    "Ref_Y_mag = [21.70936533,21.14370001,20.87269743,20.65784942,20.59158772,20.54144478,20.53099694,20.5068121]\n",
    "Ref_B_mag = [23.1138763,22.54030473,22.25329492,22.04250538,21.97267845,21.93713564,21.89841094,21.83459993]"
   ]
  },
  {
   "cell_type": "code",
   "execution_count": null,
   "id": "135bccf2",
   "metadata": {},
   "outputs": [],
   "source": [
    "#plotting aperature curves\n",
    "plt.plot(radius,GC_L_mag, '-o',c='r', label='GC')\n",
    "plt.plot(radius,GC_R_mag, '-o',c='r')\n",
    "plt.plot(radius,Ref_Y_mag, '-o',c='y', label='Yellow Reference Star')\n",
    "plt.plot(radius,Ref_B_mag, '-o',c='b', label='Blue Reference Star')\n",
    "\n",
    "#invetting axis and setting title and axis labels\n",
    "plt.gca().invert_yaxis()\n",
    "plt.title('Aperature Curves of GCs and Reference Stars')\n",
    "plt.xlabel('Radius [arcsec]')\n",
    "plt.ylabel('Aperature Magnitude g-band')\n",
    "plt.legend(loc='lower right')"
   ]
  },
  {
   "cell_type": "code",
   "execution_count": null,
   "id": "d7806a76",
   "metadata": {},
   "outputs": [],
   "source": []
  }
 ],
 "metadata": {
  "kernelspec": {
   "display_name": "Python 3",
   "language": "python",
   "name": "python3"
  },
  "language_info": {
   "codemirror_mode": {
    "name": "ipython",
    "version": 3
   },
   "file_extension": ".py",
   "mimetype": "text/x-python",
   "name": "python",
   "nbconvert_exporter": "python",
   "pygments_lexer": "ipython3",
   "version": "3.12.1"
  }
 },
 "nbformat": 4,
 "nbformat_minor": 5
}
